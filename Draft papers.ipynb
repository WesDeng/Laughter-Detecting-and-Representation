{
 "cells": [
  {
   "cell_type": "code",
   "execution_count": 17,
   "metadata": {},
   "outputs": [],
   "source": [
    "import matplotlib.pyplot as plt\n",
    "import numpy as np\n",
    "import seaborn as sns\n",
    "import librosa\n",
    "# Though the following import is not directly being used, it is required\n",
    "# for 3D projection to work\n",
    "from mpl_toolkits.mplot3d import Axes3D\n",
    "#fig = plt.figure()\n",
    "#ax = plt.axes(projection = '3d')"
   ]
  },
  {
   "cell_type": "code",
   "execution_count": 10,
   "metadata": {},
   "outputs": [],
   "source": [
    "# Input: all files' time series. \n",
    "# Output: list of durations.\n",
    "def compute_duration(laugh_audios):\n",
    "    audios_duration = []\n",
    "    for i in laugh_audios:\n",
    "        audios_duration.append(librosa.get_duration(i))\n",
    "    return audios_duration"
   ]
  },
  {
   "cell_type": "code",
   "execution_count": 18,
   "metadata": {},
   "outputs": [],
   "source": [
    "# Methods to load all the file as a floating point time series.\n",
    "def load_files(folders):\n",
    "    files = librosa.util.find_files(folders)\n",
    "    laugh_audios = []\n",
    "    for audio_name in files:\n",
    "        y, sr = librosa.core.load(audio_name)\n",
    "        laugh_audios.append(y)\n",
    "    return laugh_audios"
   ]
  },
  {
   "cell_type": "code",
   "execution_count": 40,
   "metadata": {},
   "outputs": [
    {
     "name": "stdout",
     "output_type": "stream",
     "text": [
      "[10 12 10  2 13  7  9 10  9  6  7  2  3 13 12 15 15  8 10]\n"
     ]
    }
   ],
   "source": [
    "dates = np.random.randint(2,16, size=19)\n",
    "print(dates)"
   ]
  },
  {
   "cell_type": "code",
   "execution_count": 49,
   "metadata": {},
   "outputs": [
    {
     "data": {
      "image/png": "[encoded data removed]",
      "text/plain": [
       "<Figure size 432x288 with 1 Axes>"
      ]
     },
     "metadata": {},
     "output_type": "display_data"
    }
   ],
   "source": [
    "x = dates\n",
    "y = [0.834, 1.0257, 0.65, 0.3, 1.4543, \n",
    "     1.232323, 2.633,1.25 , 1.273, 1.97, \n",
    "     0.7, 5.02, 6.7678, 7.5, 7.44, \n",
    "     5.83, 7.02, 5.64, 3.89]\n",
    "z = durations\n",
    "#z=z*z\n",
    " \n",
    "# Change color with c and alpha. I map the color to the X axis value.\n",
    "plt.scatter(x, y, s=z*2000, c=y ,alpha = 0.4, edgecolors=\"grey\", linewidth=2)\n",
    " \n",
    "# Add titles (main and on axis)\n",
    "plt.axis([0, 20, 0, 8])\n",
    "plt.xlabel(\"date\")\n",
    "\n",
    "\n",
    "plt.xticks([i for i in range(1, 21)])\n",
    "plt.yticks([])\n",
    "plt.show()\n"
   ]
  },
  {
   "cell_type": "code",
   "execution_count": 26,
   "metadata": {},
   "outputs": [],
   "source": [
    "mf = load_files('Male vs Female')"
   ]
  },
  {
   "cell_type": "code",
   "execution_count": 30,
   "metadata": {},
   "outputs": [
    {
     "data": {
      "text/plain": [
       "[644.5351473922902,\n",
       " 645.0113378684807,\n",
       " 380.0,\n",
       " 285.0113378684807,\n",
       " 500.0,\n",
       " 235.01133786848072,\n",
       " 450.0,\n",
       " 685.0113378684807,\n",
       " 530.0,\n",
       " 435.0113378684807,\n",
       " 450.0,\n",
       " 500.0,\n",
       " 1585.0113378684807,\n",
       " 435.0113378684807,\n",
       " 784.9886621315193,\n",
       " 525.0113378684807,\n",
       " 920.0,\n",
       " 1035.0113378684807,\n",
       " 665.0113378684807]"
      ]
     },
     "execution_count": 30,
     "metadata": {},
     "output_type": "execute_result"
    }
   ],
   "source": [
    "durations = compute_duration(mf)\n",
    "durations = [x*500 for x in durations]\n",
    "durations"
   ]
  },
  {
   "cell_type": "code",
   "execution_count": 1,
   "metadata": {},
   "outputs": [
    {
     "ename": "SyntaxError",
     "evalue": "unexpected EOF while parsing (<ipython-input-1-879f50a08eaf>, line 1)",
     "output_type": "error",
     "traceback": [
      "\u001b[0;36m  File \u001b[0;32m\"<ipython-input-1-879f50a08eaf>\"\u001b[0;36m, line \u001b[0;32m1\u001b[0m\n\u001b[0;31m    def TSNE_plot(folder_name):\u001b[0m\n\u001b[0m                               ^\u001b[0m\n\u001b[0;31mSyntaxError\u001b[0m\u001b[0;31m:\u001b[0m unexpected EOF while parsing\n"
     ]
    }
   ],
   "source": []
  },
  {
   "cell_type": "code",
   "execution_count": null,
   "metadata": {},
   "outputs": [],
   "source": []
  }
 ],
 "metadata": {
  "kernelspec": {
   "display_name": "Python 3",
   "language": "python",
   "name": "python3"
  },
  "language_info": {
   "codemirror_mode": {
    "name": "ipython",
    "version": 3
   },
   "file_extension": ".py",
   "mimetype": "text/x-python",
   "name": "python",
   "nbconvert_exporter": "python",
   "pygments_lexer": "ipython3",
   "version": "3.6.5"
  }
 },
 "nbformat": 4,
 "nbformat_minor": 2
}
