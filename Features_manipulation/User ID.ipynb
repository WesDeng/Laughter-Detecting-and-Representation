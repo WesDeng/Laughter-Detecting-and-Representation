{
 "cells": [
  {
   "cell_type": "code",
   "execution_count": 1,
   "metadata": {},
   "outputs": [],
   "source": [
    "import numpy as np\n",
    "import librosa\n",
    "import matplotlib.pyplot as plt\n",
    "from sklearn import preprocessing\n",
    "from sklearn.cluster import KMeans\n",
    "from sklearn.manifold import TSNE\n",
    "from spectralcluster import SpectralClusterer"
   ]
  },
  {
   "cell_type": "code",
   "execution_count": 2,
   "metadata": {},
   "outputs": [],
   "source": [
    "def load_files(folder_name):\n",
    "    files = librosa.util.find_files(folder_name)\n",
    "    # print(files)\n",
    "    laugh_audios = []\n",
    "    for audio_name in files:\n",
    "        y, sr = librosa.core.load(audio_name)\n",
    "        laugh_audios.append(y)\n",
    "    return laugh_audios"
   ]
  },
  {
   "cell_type": "code",
   "execution_count": 3,
   "metadata": {},
   "outputs": [],
   "source": [
    "def K_means(data_array, K):\n",
    "    kmeans = KMeans(n_clusters = K).fit(data_array)\n",
    "    labels = kmeans.labels_\n",
    "    centers = kmeans.cluster_centers_\n",
    "    clusters = [[] for i in range(K)] # Empty array to store the clusters.\n",
    "    count = 1  # Count the index\n",
    "    for ele in labels:\n",
    "        clusters[ele].append(count)\n",
    "        count += 1\n",
    "    for c in clusters:\n",
    "        c = [i+1 for i in c]\n",
    "    for i in range(K):\n",
    "        print(\"Cluster\", i ,\":\", clusters[i])\n",
    "    return labels"
   ]
  },
  {
   "cell_type": "code",
   "execution_count": 4,
   "metadata": {},
   "outputs": [],
   "source": [
    "def spec_cluster(data_array):\n",
    "    spec = SpectralClusterer(min_clusters=2, max_clusters=5, \n",
    "                             p_percentile=0.95, gaussian_blur_sigma=1)\n",
    "    labels = spec.predict(data_array)\n",
    "    K = max(labels)+1\n",
    "    clusters = [[] for i in range(K)] # Empty array to store the clusters.\n",
    "    count = 0  # Count the index\n",
    "    for ele in labels:\n",
    "        clusters[ele].append(count)\n",
    "        count += 1\n",
    "    for c in clusters:\n",
    "        c = [i+1 for i in c]\n",
    "    for i in range(K):\n",
    "        print(\"Cluster\", i ,\":\", clusters[i])\n",
    "    return labels"
   ]
  },
  {
   "cell_type": "code",
   "execution_count": 5,
   "metadata": {},
   "outputs": [],
   "source": [
    "# MFCC\n",
    "def energy_weighted_mfcc(y):\n",
    "    S, phase = librosa.magphase(librosa.stft(y))\n",
    "    rms = librosa.feature.rmse(S=S)\n",
    "    mfcc = librosa.feature.mfcc(y, n_mfcc=13)[1:]\n",
    "    return np.array([np.sum(mfcc*rms, axis=1)/np.sum(rms)])"
   ]
  },
  {
   "cell_type": "code",
   "execution_count": 6,
   "metadata": {},
   "outputs": [],
   "source": [
    "# Energy (RMS)\n",
    "def get_file_rms(y):\n",
    "    return [np.sqrt(np.dot(y, y))/len(y)]"
   ]
  },
  {
   "cell_type": "code",
   "execution_count": 7,
   "metadata": {},
   "outputs": [],
   "source": [
    "def get_feature_row(y):\n",
    "    mfcc_feat = energy_weighted_mfcc(y)\n",
    "    energy = float(get_file_rms(y)[0])\n",
    "    duration = float(librosa.get_duration(y))\n",
    "    centroid = float(np.mean(librosa.feature.spectral_centroid(y)))\n",
    "    print([duration, energy])\n",
    "    return np.hstack((mfcc_feat, np.array([[energy, duration, centroid]])))"
   ]
  },
  {
   "cell_type": "code",
   "execution_count": 8,
   "metadata": {},
   "outputs": [],
   "source": [
    "# Dirrectly use to get the standard feature matrix.\n",
    "def get_feature(folder_name):\n",
    "    files = load_files(folder_name) # load to time series\n",
    "    f_matrix = get_feature_row(files[0])\n",
    "    for i in files[1:]:\n",
    "        next_row = get_feature_row(i)\n",
    "        f_matrix = np.vstack((f_matrix,next_row))\n",
    "        standard_f = preprocessing.StandardScaler().fit_transform(f_matrix)\n",
    "    return standard_f"
   ]
  },
  {
   "cell_type": "code",
   "execution_count": 9,
   "metadata": {},
   "outputs": [],
   "source": [
    "def standard_matrix(matrix):\n",
    "    return StandardScaler().fit_transform(matrix)"
   ]
  },
  {
   "cell_type": "code",
   "execution_count": 10,
   "metadata": {},
   "outputs": [
    {
     "name": "stdout",
     "output_type": "stream",
     "text": [
      "[0.7900226757369615, 0.0004713032193627341]\n",
      "[2.9149659863945576, 0.0004624878131476231]\n",
      "[1.34, 0.0002865134009484789]\n",
      "[1.72, 0.0005043017011160766]\n",
      "[1.7100226757369614, 0.00033099390951662566]\n",
      "[1.4500226757369614, 0.00014984935426072237]\n",
      "[1.5299773242630386, 0.0003179269349204722]\n",
      "[3.76, 0.0003630917456604761]\n",
      "[9.150975056689342, 0.00031355870416434876]\n",
      "[1.6116099773242631, 0.0010587201897811374]\n",
      "[1.6500226757369614, 0.0005537186736301445]\n",
      "[4.050022675736962, 0.0004039027248426267]\n",
      "[1.0100226757369615, 0.00043737222999434697]\n",
      "[0.92, 0.0004650339929354469]\n",
      "[0.74, 0.00019417807351156962]\n"
     ]
    }
   ],
   "source": [
    "JE = get_feature(\"JE_files\")"
   ]
  },
  {
   "cell_type": "code",
   "execution_count": 11,
   "metadata": {},
   "outputs": [
    {
     "name": "stdout",
     "output_type": "stream",
     "text": [
      "[[1.04163117 3.4757941 ]\n",
      " [2.81010665 3.40789904]\n",
      " [1.49934758 2.05256797]\n",
      " [1.81560104 3.72994394]\n",
      " [1.80729745 2.39515081]\n",
      " [1.5909135  1.        ]\n",
      " [1.65745544 2.29451075]\n",
      " [3.5133828  2.642364  ]\n",
      " [8.         2.26086723]\n",
      " [1.72539388 8.        ]\n",
      " [1.75736269 4.11054676]\n",
      " [3.754753   2.95668463]\n",
      " [1.22472528 3.21446222]\n",
      " [1.14980427 3.42750937]\n",
      " [1.         1.34141379]]\n"
     ]
    }
   ],
   "source": [
    "# Functions to minmax the columes. Scaled by featrue_range.\n",
    "d_e = np.array([[0.7900226757369615, 0.0004713032193627341],\n",
    "[2.9149659863945576, 0.0004624878131476231],\n",
    "[1.34, 0.0002865134009484789],\n",
    "[1.72, 0.0005043017011160766],\n",
    "[1.7100226757369614, 0.00033099390951662566],\n",
    "[1.4500226757369614, 0.00014984935426072237],\n",
    "[1.5299773242630386, 0.0003179269349204722],\n",
    "[3.76, 0.0003630917456604761],\n",
    "[9.150975056689342, 0.00031355870416434876],\n",
    "[1.6116099773242631, 0.0010587201897811374],\n",
    "[1.6500226757369614, 0.0005537186736301445],\n",
    "[4.050022675736962, 0.0004039027248426267],\n",
    "[1.0100226757369615, 0.00043737222999434697],\n",
    "[0.92, 0.0004650339929354469],\n",
    "[0.74, 0.00019417807351156962]])\n",
    "d_e_scale = preprocessing.minmax_scale(d_e, feature_range=(1,8),axis = 0)\n",
    "print(d_e_scale)"
   ]
  },
  {
   "cell_type": "code",
   "execution_count": 23,
   "metadata": {},
   "outputs": [
    {
     "name": "stdout",
     "output_type": "stream",
     "text": [
      "Cluster 0 : [2, 8, 10]\n",
      "Cluster 1 : [1, 3, 5, 6, 7, 9, 13, 14]\n",
      "Cluster 2 : [4, 11, 12, 15]\n"
     ]
    },
    {
     "data": {
      "text/plain": [
       "array([1, 0, 1, 2, 1, 1, 1, 0, 1, 0, 2, 2, 1, 1, 2], dtype=int32)"
      ]
     },
     "execution_count": 23,
     "metadata": {},
     "output_type": "execute_result"
    }
   ],
   "source": [
    "K_means(JE,3)"
   ]
  },
  {
   "cell_type": "code",
   "execution_count": 11,
   "metadata": {},
   "outputs": [
    {
     "name": "stdout",
     "output_type": "stream",
     "text": [
      "[[-0.51197592 -0.35794944 -1.03960751  0.31082158 -0.80866521  0.46511296\n",
      "   0.22796572 -1.74072716  0.49851402  0.65596528  0.9450439  -0.33919076\n",
      "   0.33171777  0.09741075  1.44383669]\n",
      " [ 1.64384574 -0.36679508 -0.34189848 -0.89667528  0.55265135  0.96081082\n",
      "   0.72546288 -2.02579669  0.65289313  1.27869945 -0.14605477  0.23280378\n",
      "   0.10037592  0.09899437 -0.27065433]\n",
      " [ 0.68637559  0.6478782   0.94338063  2.20426637  0.01953226 -0.36532742\n",
      "  -0.76291998 -0.39373123  0.25731245 -0.08293668 -0.38835788  1.14436056\n",
      "   0.75740441 -0.78233019 -1.18189014]\n",
      " [ 1.34926502  0.78429582 -0.5621155  -0.41513195  0.30702625  0.98021793\n",
      "   0.43170833 -0.15508173  0.64621654  1.24704507  0.10156433 -0.38382299\n",
      "  -1.05304843 -1.09822551 -1.08508798]\n",
      " [-0.01510233  0.26643936  0.30202136  0.86939098 -0.09216828 -1.05066126\n",
      "   0.58863912 -0.14178655 -0.21615276  0.73877529 -1.02420808 -0.06599828\n",
      "   1.07471995 -0.3832569  -0.22342964]\n",
      " [ 1.25463117  0.31410766 -0.09461436 -1.82993718  0.95933462  0.18047838\n",
      "   0.81550258 -0.17007931  0.57248001 -0.3516792  -0.77151558 -0.00748174\n",
      "   1.47456619 -1.26450605 -0.92685678]\n",
      " [ 0.68730985  1.89247321 -0.14570927  1.65447716  1.40875926 -1.29001834\n",
      "  -0.54309965 -0.90540166 -1.73254605 -1.45466717 -0.66619575 -1.39454781\n",
      "  -0.01800526 -0.54953744 -0.23482873]\n",
      " [-0.3716083   0.35176063  0.6128239   0.47872739 -0.06876628 -0.73676894\n",
      "   2.39106662 -0.10155934 -1.45202215 -1.81460913 -0.71734621  0.64200624\n",
      "  -0.55123581  0.2320188   0.67661756]\n",
      " [ 0.44473314  0.97400112  0.09015465 -0.2637998   1.28812513 -1.16886151\n",
      "  -1.9627538   1.31252582 -1.00918479 -1.1262213  -0.13226535 -0.89526639\n",
      "   0.331221   -0.28348857 -1.09077911]\n",
      " [ 0.41408338  0.71620739  0.29240358  0.08705303  0.71210533 -0.8906695\n",
      "  -0.66169619 -0.94372308 -0.62329517 -0.00822523 -1.08346417  0.20861219\n",
      "   2.7030606  -0.59938389 -1.56919862]\n",
      " [ 0.81294825  1.52651254  1.48654586  0.84153324  2.22104698 -0.7988082\n",
      "  -1.15289009  0.97674634 -0.90624076 -0.43640873 -1.43552839  0.91706806\n",
      "   0.4478094  -0.54953744 -0.85139333]\n",
      " [-1.38976014 -0.03636659  1.57277092  0.05230646 -0.79354708 -0.44633573\n",
      "   0.14065241  1.78267892 -1.15320069  0.10270785  0.96912672 -1.38580633\n",
      "  -1.41351036 -0.3832569   1.05458767]\n",
      " [-2.16056904 -0.89140703  1.18219875 -1.05630309 -1.47290366  0.44461001\n",
      "   0.85518602  0.07644013 -0.61063401 -0.69842916  0.10533095 -0.27645811\n",
      "  -1.01224211  3.22506851  2.09019045]\n",
      " [-0.54797006 -1.56748659 -2.47698334 -1.12968229  0.0951534   0.72793122\n",
      "  -0.50054866  0.85142021  1.61112481  2.27513655  2.49405212  2.14456053\n",
      "  -0.35554059 -0.59938389  0.14086296]\n",
      " [-0.70672628 -1.45865736 -1.91886164 -0.51553853 -0.51512541  1.18015784\n",
      "   0.14935559  0.3660369   2.18027428  1.08571595  1.50072891  1.08586278\n",
      "  -0.85875286  0.56450447  0.23046251]\n",
      " [ 0.43268682 -1.97927792  0.12637004 -1.32727627 -1.65629901  2.23274378\n",
      "  -1.70434823  1.67904945  0.91208394 -0.65660208 -0.3414919  -1.99923039\n",
      "   0.32942295 -0.30007892 -0.35220505]\n",
      " [-0.75937082 -0.67349538 -0.25571001  0.58980382 -1.28035855  0.24856182\n",
      "   1.03256253 -0.43110218  0.11523172 -0.49182448  0.68667857  0.75057112\n",
      "  -0.99871849  1.01349963  0.82157594]\n",
      " [-1.51702152 -0.44117025  0.12389535 -0.26408518 -0.64844374  0.89469302\n",
      "   0.04510662  0.29195451 -0.18634313 -0.50174742  0.96538741  0.48907369\n",
      "  -0.89305733  1.39598258  1.44949969]\n",
      " [ 0.25422547  0.2989297   0.10293507  0.61004955 -0.22745733 -1.56786688\n",
      "  -0.11495182 -0.32786334  0.44348862  0.23930513 -1.06148483 -0.86711614\n",
      "  -0.39618696  0.16550659 -0.12130976]]\n"
     ]
    }
   ],
   "source": [
    "mf_matrix = get_feature('Male_Female')\n",
    "print(mf_matrix)"
   ]
  },
  {
   "cell_type": "code",
   "execution_count": 13,
   "metadata": {},
   "outputs": [
    {
     "name": "stdout",
     "output_type": "stream",
     "text": [
      "[[ -27.860128   126.36817  ]\n",
      " [ 134.39732    -14.399454 ]\n",
      " [  13.016602  -129.65015  ]\n",
      " [ -81.985435    20.019423 ]\n",
      " [-133.63948     59.27483  ]\n",
      " [ -55.20078    -23.743402 ]\n",
      " [  76.46201      2.2101235]\n",
      " [ -95.39254    -87.88198  ]\n",
      " [ -16.0549      55.149654 ]\n",
      " [  47.534237    48.532433 ]\n",
      " [   5.0523047    2.6288965]\n",
      " [  76.157005  -132.17966  ]\n",
      " [ -71.42477     82.273346 ]\n",
      " [  52.94549    107.03095  ]\n",
      " [ -37.56651   -103.97993  ]\n",
      " [ -10.655553   -54.554092 ]\n",
      " [  42.379475   -50.05423  ]\n",
      " [-150.51453     -8.235508 ]\n",
      " [  98.09328    -74.74407  ]]\n"
     ]
    }
   ],
   "source": [
    "mf_embedded = TSNE(n_components=2).fit_transform(mf_matrix)\n",
    "print(mf_embedded)"
   ]
  },
  {
   "cell_type": "code",
   "execution_count": 22,
   "metadata": {},
   "outputs": [],
   "source": [
    "def TSNE_plot(folder_name):\n",
    "    f_matrix = get_feature(folder_name)\n",
    "    color = ['blue' if l == 0 else 'red' for l in K_means(f_matrix, 2)]\n",
    "    embedded = TSNE(n_components=2).fit_transform(f_matrix)\n",
    "    plt.scatter(embedded[:,0],embedded[:,1],color = color)"
   ]
  },
  {
   "cell_type": "code",
   "execution_count": 24,
   "metadata": {},
   "outputs": [
    {
     "name": "stdout",
     "output_type": "stream",
     "text": [
      "Cluster 0 : [1, 2, 3, 4, 5, 6, 7, 8, 9, 10, 18]\n",
      "Cluster 1 : [0, 11, 12, 13, 14, 15, 16, 17]\n"
     ]
    },
    {
     "data": {
      "image/png": "[encoded data removed]",
      "text/plain": [
       "<Figure size 432x288 with 1 Axes>"
      ]
     },
     "metadata": {},
     "output_type": "display_data"
    }
   ],
   "source": [
    "TSNE_plot(\"Male_Female\")"
   ]
  },
  {
   "cell_type": "markdown",
   "metadata": {},
   "source": [
    "How to use this function:"
   ]
  },
  {
   "cell_type": "code",
   "execution_count": 16,
   "metadata": {},
   "outputs": [],
   "source": [
    "new_mf = get_feature('Male_Female')"
   ]
  },
  {
   "cell_type": "code",
   "execution_count": 17,
   "metadata": {},
   "outputs": [
    {
     "name": "stdout",
     "output_type": "stream",
     "text": [
      "Cluster 0 : [1, 2, 3, 4, 5, 6, 7, 8, 9, 10, 18]\n",
      "Cluster 1 : [0, 11, 12, 13, 14, 15, 16, 17]\n"
     ]
    },
    {
     "data": {
      "text/plain": [
       "array([1, 0, 0, 0, 0, 0, 0, 0, 0, 0, 0, 1, 1, 1, 1, 1, 1, 1, 0],\n",
       "      dtype=int32)"
      ]
     },
     "execution_count": 17,
     "metadata": {},
     "output_type": "execute_result"
    }
   ],
   "source": [
    "K_means(new_mf, 2)"
   ]
  },
  {
   "cell_type": "code",
   "execution_count": 18,
   "metadata": {},
   "outputs": [
    {
     "name": "stdout",
     "output_type": "stream",
     "text": [
      "Cluster 0 : [1, 3, 9, 13, 16, 17, 27, 28]\n",
      "Cluster 1 : [7, 8, 11, 15, 18, 20, 22, 23, 24, 26, 29, 31]\n",
      "Cluster 2 : [0, 2, 4, 5, 6, 10, 12, 14, 19, 21, 25, 30]\n"
     ]
    },
    {
     "data": {
      "text/plain": [
       "array([2, 0, 2, 0, 2, 2, 2, 1, 1, 0, 2, 1, 2, 0, 2, 1, 0, 0, 1, 2, 1, 2,\n",
       "       1, 1, 1, 2, 1, 0, 0, 1, 2, 1], dtype=int32)"
      ]
     },
     "execution_count": 18,
     "metadata": {},
     "output_type": "execute_result"
    }
   ],
   "source": [
    "MI28 = get_feature(\"MI28\")\n",
    "K_means(MI28,3)"
   ]
  },
  {
   "cell_type": "code",
   "execution_count": 19,
   "metadata": {},
   "outputs": [
    {
     "name": "stdout",
     "output_type": "stream",
     "text": [
      "Cluster 0 : [3, 4, 6, 7, 8, 9]\n",
      "Cluster 1 : [0, 1, 2, 5]\n"
     ]
    },
    {
     "data": {
      "text/plain": [
       "array([1, 1, 1, 0, 0, 1, 0, 0, 0, 0], dtype=int32)"
      ]
     },
     "execution_count": 19,
     "metadata": {},
     "output_type": "execute_result"
    }
   ],
   "source": [
    "#EMO into 2\n",
    "K_means(get_feature(\"EMO\"), 2)"
   ]
  },
  {
   "cell_type": "code",
   "execution_count": 20,
   "metadata": {},
   "outputs": [
    {
     "name": "stdout",
     "output_type": "stream",
     "text": [
      "Cluster 0 : [1]\n",
      "Cluster 1 : [3, 4, 6, 7, 8, 9]\n",
      "Cluster 2 : [0, 2, 5]\n"
     ]
    },
    {
     "data": {
      "text/plain": [
       "array([2, 0, 2, 1, 1, 2, 1, 1, 1, 1], dtype=int32)"
      ]
     },
     "execution_count": 20,
     "metadata": {},
     "output_type": "execute_result"
    }
   ],
   "source": [
    "#EMO into 3\n",
    "K_means(get_feature(\"EMO\"), 3)"
   ]
  },
  {
   "cell_type": "code",
   "execution_count": 21,
   "metadata": {},
   "outputs": [
    {
     "name": "stdout",
     "output_type": "stream",
     "text": [
      "Cluster 0 : [0, 3, 4, 6, 7, 8]\n",
      "Cluster 1 : [2, 5]\n",
      "Cluster 2 : [1]\n",
      "Cluster 3 : [9]\n"
     ]
    },
    {
     "data": {
      "text/plain": [
       "array([0, 2, 1, 0, 0, 1, 0, 0, 0, 3], dtype=int32)"
      ]
     },
     "execution_count": 21,
     "metadata": {},
     "output_type": "execute_result"
    }
   ],
   "source": [
    "#EMO into 4\n",
    "K_means(get_feature(\"EMO\"), 4)"
   ]
  },
  {
   "cell_type": "code",
   "execution_count": 22,
   "metadata": {},
   "outputs": [
    {
     "name": "stdout",
     "output_type": "stream",
     "text": [
      "Cluster 0 : [1, 2, 3, 4, 5, 6, 7, 8, 9, 10, 17]\n",
      "Cluster 1 : [0, 11, 12, 13, 14, 15, 16, 18]\n"
     ]
    },
    {
     "data": {
      "text/plain": [
       "array([1, 0, 0, 0, 0, 0, 0, 0, 0, 0, 0, 1, 1, 1, 1, 1, 1, 0, 1],\n",
       "      dtype=int32)"
      ]
     },
     "execution_count": 22,
     "metadata": {},
     "output_type": "execute_result"
    }
   ],
   "source": [
    "#JE Mixed groups into two\n",
    "K_means(get_feature(\"JE\"), 2)"
   ]
  },
  {
   "cell_type": "code",
   "execution_count": 23,
   "metadata": {},
   "outputs": [
    {
     "name": "stdout",
     "output_type": "stream",
     "text": [
      "Cluster 0 : [8, 10, 24, 31, 43, 56]\n",
      "Cluster 1 : [0, 3, 5, 6, 7, 9, 11, 12, 15, 16, 17, 19, 21, 22, 23, 36, 37, 38, 39, 40, 42, 44, 47, 48, 50, 54]\n",
      "Cluster 2 : [28, 32, 55]\n",
      "Cluster 3 : [1, 4, 14, 18, 25, 30, 33, 45, 49]\n",
      "Cluster 4 : [2, 13, 20, 26, 27, 29, 34, 35, 41, 46, 51, 52, 53]\n"
     ]
    },
    {
     "data": {
      "text/plain": [
       "array([1, 3, 4, 1, 3, 1, 1, 1, 0, 1, 0, 1, 1, 4, 3, 1, 1, 1, 3, 1, 4, 1,\n",
       "       1, 1, 0, 3, 4, 4, 2, 4, 3, 0, 2, 3, 4, 4, 1, 1, 1, 1, 1, 4, 1, 0,\n",
       "       1, 3, 4, 1, 1, 3, 1, 4, 4, 4, 1, 2, 0], dtype=int32)"
      ]
     },
     "execution_count": 23,
     "metadata": {},
     "output_type": "execute_result"
    }
   ],
   "source": [
    "K_means(get_feature(\"EMO_full\"),5)"
   ]
  },
  {
   "cell_type": "code",
   "execution_count": 24,
   "metadata": {},
   "outputs": [
    {
     "name": "stdout",
     "output_type": "stream",
     "text": [
      "Cluster 0 : [0, 3, 9, 11, 12, 16, 19, 21, 22, 23, 36, 37, 39, 40, 42, 44, 47, 50, 54]\n",
      "Cluster 1 : [28, 32, 55]\n",
      "Cluster 2 : [6, 17, 27, 34, 38, 46, 48]\n",
      "Cluster 3 : [1, 2, 4, 5, 7, 13, 15, 18, 20, 25, 26, 29, 30, 33, 35, 41, 45, 49, 51, 53]\n",
      "Cluster 4 : [8, 10, 24, 31, 43, 56]\n",
      "Cluster 5 : [14]\n",
      "Cluster 6 : [52]\n"
     ]
    },
    {
     "data": {
      "text/plain": [
       "array([0, 3, 3, 0, 3, 3, 2, 3, 4, 0, 4, 0, 0, 3, 5, 3, 0, 2, 3, 0, 3, 0,\n",
       "       0, 0, 4, 3, 3, 2, 1, 3, 3, 4, 1, 3, 2, 3, 0, 0, 2, 0, 0, 3, 0, 4,\n",
       "       0, 3, 2, 0, 2, 3, 0, 3, 6, 3, 0, 1, 4], dtype=int32)"
      ]
     },
     "execution_count": 24,
     "metadata": {},
     "output_type": "execute_result"
    }
   ],
   "source": [
    "K_means(get_feature(\"EMO_full\"),7)"
   ]
  },
  {
   "cell_type": "code",
   "execution_count": 26,
   "metadata": {},
   "outputs": [
    {
     "name": "stdout",
     "output_type": "stream",
     "text": [
      "Cluster 0 : [7, 11, 12, 16, 17]\n",
      "Cluster 1 : [2, 4, 5, 6, 8, 9, 10, 18]\n",
      "Cluster 2 : [0, 1, 3, 13, 14, 15]\n"
     ]
    },
    {
     "data": {
      "text/plain": [
       "array([2, 2, 1, 2, 1, 1, 1, 0, 1, 1, 1, 0, 0, 2, 2, 2, 0, 0, 1],\n",
       "      dtype=int32)"
      ]
     },
     "execution_count": 26,
     "metadata": {},
     "output_type": "execute_result"
    }
   ],
   "source": [
    "K_means(new_mf, 3)"
   ]
  },
  {
   "cell_type": "code",
   "execution_count": 27,
   "metadata": {},
   "outputs": [
    {
     "name": "stdout",
     "output_type": "stream",
     "text": [
      "Cluster 0 : [0, 11, 12, 13, 14, 15, 16, 17]\n",
      "Cluster 1 : [1, 2, 3, 4, 5, 6, 7, 8, 9, 10, 18]\n"
     ]
    },
    {
     "data": {
      "text/plain": [
       "array([0, 1, 1, 1, 1, 1, 1, 1, 1, 1, 1, 0, 0, 0, 0, 0, 0, 0, 1],\n",
       "      dtype=int32)"
      ]
     },
     "execution_count": 27,
     "metadata": {},
     "output_type": "execute_result"
    }
   ],
   "source": [
    "K_means(new_mf, 2)"
   ]
  },
  {
   "cell_type": "code",
   "execution_count": 30,
   "metadata": {},
   "outputs": [
    {
     "name": "stdout",
     "output_type": "stream",
     "text": [
      "Cluster 0 : [4]\n",
      "Cluster 1 : [0, 1, 2, 3]\n",
      "Cluster 2 : [5]\n",
      "Cluster 3 : [6]\n"
     ]
    },
    {
     "data": {
      "text/plain": [
       "array([1, 1, 1, 1, 0, 2, 3], dtype=int32)"
      ]
     },
     "execution_count": 30,
     "metadata": {},
     "output_type": "execute_result"
    }
   ],
   "source": [
    "K_means(get_feature(\"test_spec\"), 4)"
   ]
  },
  {
   "cell_type": "code",
   "execution_count": 31,
   "metadata": {},
   "outputs": [
    {
     "name": "stdout",
     "output_type": "stream",
     "text": [
      "Cluster 0 : [1, 2, 3]\n",
      "Cluster 1 : [6]\n",
      "Cluster 2 : [4]\n",
      "Cluster 3 : [5]\n",
      "Cluster 4 : [0]\n"
     ]
    },
    {
     "data": {
      "text/plain": [
       "array([4, 0, 0, 0, 2, 3, 1], dtype=int32)"
      ]
     },
     "execution_count": 31,
     "metadata": {},
     "output_type": "execute_result"
    }
   ],
   "source": [
    "K_means(get_feature(\"test_spec\"), 5)"
   ]
  },
  {
   "cell_type": "code",
   "execution_count": 41,
   "metadata": {},
   "outputs": [
    {
     "data": {
      "text/plain": [
       "array([2, 2, 0, 0, 0, 3, 3, 7, 7, 7, 3, 6, 1, 5, 5, 5, 1, 1, 4],\n",
       "      dtype=int32)"
      ]
     },
     "execution_count": 41,
     "metadata": {},
     "output_type": "execute_result"
    }
   ],
   "source": [
    "spec.predict(new_mf)"
   ]
  },
  {
   "cell_type": "code",
   "execution_count": 43,
   "metadata": {},
   "outputs": [
    {
     "data": {
      "text/plain": [
       "1"
      ]
     },
     "execution_count": 43,
     "metadata": {},
     "output_type": "execute_result"
    }
   ],
   "source": [
    "spec.predict(get_feature(\"EMO_full\"))"
   ]
  },
  {
   "cell_type": "code",
   "execution_count": 48,
   "metadata": {},
   "outputs": [
    {
     "name": "stdout",
     "output_type": "stream",
     "text": [
      "Cluster 0 : [0, 1, 2, 3, 4, 5, 6, 7, 8, 9, 10, 11, 12, 24, 43, 44]\n",
      "Cluster 1 : [13, 14, 15, 16, 17, 18, 19, 20, 21, 22, 23, 25, 26, 27, 28, 29, 30, 31, 32, 33, 34, 35, 36, 37, 38, 39, 40, 41, 42, 45, 46, 47, 48, 49, 50, 51, 52, 53, 54, 55, 56]\n"
     ]
    },
    {
     "data": {
      "text/plain": [
       "array([0, 0, 0, 0, 0, 0, 0, 0, 0, 0, 0, 0, 0, 1, 1, 1, 1, 1, 1, 1, 1, 1,\n",
       "       1, 1, 0, 1, 1, 1, 1, 1, 1, 1, 1, 1, 1, 1, 1, 1, 1, 1, 1, 1, 1, 0,\n",
       "       0, 1, 1, 1, 1, 1, 1, 1, 1, 1, 1, 1, 1], dtype=int32)"
      ]
     },
     "execution_count": 48,
     "metadata": {},
     "output_type": "execute_result"
    }
   ],
   "source": [
    "spec_cluster(get_feature(\"EMO_full\"))"
   ]
  },
  {
   "cell_type": "code",
   "execution_count": 49,
   "metadata": {},
   "outputs": [
    {
     "name": "stdout",
     "output_type": "stream",
     "text": [
      "Cluster 0 : [2, 3, 4, 16, 17, 49, 53]\n",
      "Cluster 1 : [10, 11, 12, 24, 25, 26, 27, 28, 38, 47, 48]\n",
      "Cluster 2 : [0, 1, 5, 6, 50, 51, 52]\n",
      "Cluster 3 : [41, 42, 43, 44, 45, 46]\n",
      "Cluster 4 : [29, 30, 31, 32]\n",
      "Cluster 5 : [7, 8, 9, 21, 22, 23]\n",
      "Cluster 6 : [13, 18, 19, 20]\n",
      "Cluster 7 : [14, 15, 33, 34, 35, 36, 37, 39, 40]\n"
     ]
    },
    {
     "data": {
      "text/plain": [
       "array([2, 2, 0, 0, 0, 2, 2, 5, 5, 5, 1, 1, 1, 6, 7, 7, 0, 0, 6, 6, 6, 5,\n",
       "       5, 5, 1, 1, 1, 1, 1, 4, 4, 4, 4, 7, 7, 7, 7, 7, 1, 7, 7, 3, 3, 3,\n",
       "       3, 3, 3, 1, 1, 0, 2, 2, 2, 0], dtype=int32)"
      ]
     },
     "execution_count": 49,
     "metadata": {},
     "output_type": "execute_result"
    }
   ],
   "source": [
    "spec_cluster(get_feature(\"JO_full\"))"
   ]
  },
  {
   "cell_type": "code",
   "execution_count": 52,
   "metadata": {},
   "outputs": [
    {
     "name": "stdout",
     "output_type": "stream",
     "text": [
      "Cluster 0 : [42, 43, 44, 45, 46, 47]\n",
      "Cluster 1 : [1, 2, 8, 20, 21, 22, 23, 24, 51, 52, 53]\n",
      "Cluster 2 : [0, 3, 4, 5, 6, 7, 16, 17, 18, 48, 49, 50]\n",
      "Cluster 3 : [9, 10, 11, 12, 13, 25, 26, 27, 28, 29, 30, 31, 32, 33, 39]\n",
      "Cluster 4 : [14, 15, 19, 34, 35, 36, 37, 38, 40, 41]\n"
     ]
    },
    {
     "data": {
      "text/plain": [
       "array([2, 1, 1, 2, 2, 2, 2, 2, 1, 3, 3, 3, 3, 3, 4, 4, 2, 2, 2, 4, 1, 1,\n",
       "       1, 1, 1, 3, 3, 3, 3, 3, 3, 3, 3, 3, 4, 4, 4, 4, 4, 3, 4, 4, 0, 0,\n",
       "       0, 0, 0, 0, 2, 2, 2, 1, 1, 1], dtype=int32)"
      ]
     },
     "execution_count": 52,
     "metadata": {},
     "output_type": "execute_result"
    }
   ],
   "source": [
    "spec_cluster(get_feature(\"JO_full\"))"
   ]
  },
  {
   "cell_type": "code",
   "execution_count": 12,
   "metadata": {},
   "outputs": [
    {
     "name": "stdout",
     "output_type": "stream",
     "text": [
      "Cluster 0 : [4, 5, 8, 9, 10, 11, 12, 15, 16, 17, 19, 21, 22, 23, 27, 34, 36, 37, 38, 39, 40, 42, 44, 46, 47, 48, 50, 54]\n",
      "Cluster 1 : [0, 24, 28, 31, 32, 43, 55]\n",
      "Cluster 2 : [1, 2, 3, 6, 7, 14, 18, 25, 30, 33, 45, 49]\n",
      "Cluster 3 : [13, 20, 26, 29, 35, 41, 51, 52, 53]\n"
     ]
    },
    {
     "data": {
      "text/plain": [
       "array([1, 2, 2, 2, 0, 0, 2, 2, 0, 0, 0, 0, 0, 3, 2, 0, 0, 0, 2, 0, 3, 0,\n",
       "       0, 0, 1, 2, 3, 0, 1, 3, 2, 1, 1, 2, 0, 3, 0, 0, 0, 0, 0, 3, 0, 1,\n",
       "       0, 2, 0, 0, 0, 2, 0, 3, 3, 3, 0, 1], dtype=int32)"
      ]
     },
     "execution_count": 12,
     "metadata": {},
     "output_type": "execute_result"
    }
   ],
   "source": [
    "K_means(get_feature(\"EMO_full\"), 4)"
   ]
  },
  {
   "cell_type": "code",
   "execution_count": 13,
   "metadata": {},
   "outputs": [
    {
     "name": "stdout",
     "output_type": "stream",
     "text": [
      "Cluster 0 : [0, 5]\n",
      "Cluster 1 : [2, 3, 7]\n",
      "Cluster 2 : [1, 4, 6, 8, 9]\n"
     ]
    },
    {
     "data": {
      "text/plain": [
       "array([0, 2, 1, 1, 2, 0, 2, 1, 2, 2], dtype=int32)"
      ]
     },
     "execution_count": 13,
     "metadata": {},
     "output_type": "execute_result"
    }
   ],
   "source": [
    "K_means(get_feature(\"MAL_full\"), 3)"
   ]
  },
  {
   "cell_type": "code",
   "execution_count": 14,
   "metadata": {},
   "outputs": [
    {
     "name": "stdout",
     "output_type": "stream",
     "text": [
      "Cluster 0 : [3, 4, 8]\n",
      "Cluster 1 : [0, 2, 5, 7, 9]\n",
      "Cluster 2 : [1, 6]\n"
     ]
    },
    {
     "data": {
      "text/plain": [
       "array([1, 2, 1, 0, 0, 1, 2, 1, 0, 1], dtype=int32)"
      ]
     },
     "execution_count": 14,
     "metadata": {},
     "output_type": "execute_result"
    }
   ],
   "source": [
    "K_means(get_feature(\"MAL_full\"), 3)"
   ]
  },
  {
   "cell_type": "code",
   "execution_count": 15,
   "metadata": {},
   "outputs": [
    {
     "name": "stdout",
     "output_type": "stream",
     "text": [
      "Cluster 0 : [3, 4, 8]\n",
      "Cluster 1 : [2, 5, 7, 9]\n",
      "Cluster 2 : [1, 6]\n",
      "Cluster 3 : [0]\n"
     ]
    },
    {
     "data": {
      "text/plain": [
       "array([3, 2, 1, 0, 0, 1, 2, 1, 0, 1], dtype=int32)"
      ]
     },
     "execution_count": 15,
     "metadata": {},
     "output_type": "execute_result"
    }
   ],
   "source": [
    "K_means(get_feature(\"MAL_full\"), 4)"
   ]
  },
  {
   "cell_type": "code",
   "execution_count": 17,
   "metadata": {},
   "outputs": [
    {
     "name": "stdout",
     "output_type": "stream",
     "text": [
      "Cluster 0 : [2, 4, 5, 7, 8, 9, 11, 12, 15, 16, 17, 19, 22, 24, 25, 27, 30, 31, 40, 48, 55, 56, 57]\n",
      "Cluster 1 : [6, 20, 21, 26, 35, 49, 50]\n",
      "Cluster 2 : [14, 32, 36, 37, 39, 41, 44, 47, 52, 59]\n",
      "Cluster 3 : [0, 1, 3, 10, 13, 18, 23, 28, 29, 33, 34, 38, 42, 43, 45, 46, 51, 53, 54, 58]\n"
     ]
    },
    {
     "data": {
      "text/plain": [
       "array([3, 3, 0, 3, 0, 0, 1, 0, 0, 0, 3, 0, 0, 3, 2, 0, 0, 0, 3, 0, 1, 1,\n",
       "       0, 3, 0, 0, 1, 0, 3, 3, 0, 0, 2, 3, 3, 1, 2, 2, 3, 2, 0, 2, 3, 3,\n",
       "       2, 3, 3, 2, 0, 1, 1, 3, 2, 3, 3, 0, 0, 0, 3, 2], dtype=int32)"
      ]
     },
     "execution_count": 17,
     "metadata": {},
     "output_type": "execute_result"
    }
   ],
   "source": [
    "K_means(get_feature(\"CA_full\"), 4)"
   ]
  },
  {
   "cell_type": "code",
   "execution_count": 21,
   "metadata": {},
   "outputs": [
    {
     "name": "stdout",
     "output_type": "stream",
     "text": [
      "Cluster 0 : [1, 5, 6, 7, 9, 11, 12, 13, 21, 22, 27, 29, 30, 32, 34, 36, 39, 41, 45, 48]\n",
      "Cluster 1 : [0, 2, 4, 8, 15, 17, 18, 19, 20, 33, 35, 37, 38, 40, 44]\n",
      "Cluster 2 : [3, 10, 14, 16, 23, 24, 25, 26, 28, 31, 42, 43, 46, 47]\n"
     ]
    },
    {
     "data": {
      "text/plain": [
       "array([1, 0, 1, 2, 1, 0, 0, 0, 1, 0, 2, 0, 0, 0, 2, 1, 2, 1, 1, 1, 1, 0,\n",
       "       0, 2, 2, 2, 2, 0, 2, 0, 0, 2, 0, 1, 0, 1, 0, 1, 1, 0, 1, 0, 2, 2,\n",
       "       1, 0, 2, 2, 0], dtype=int32)"
      ]
     },
     "execution_count": 21,
     "metadata": {},
     "output_type": "execute_result"
    }
   ],
   "source": [
    "K_means(get_feature(\"YO_full\"), 3)"
   ]
  },
  {
   "cell_type": "code",
   "execution_count": 22,
   "metadata": {},
   "outputs": [
    {
     "name": "stdout",
     "output_type": "stream",
     "text": [
      "Cluster 0 : [1, 3, 4, 8, 10, 14, 15, 16, 17, 19, 20, 23, 24, 25, 26, 28, 31, 33, 35, 37, 40, 42, 43, 44, 46, 47]\n",
      "Cluster 1 : [0, 2, 5, 6, 7, 9, 11, 12, 13, 18, 21, 22, 27, 29, 30, 32, 34, 36, 38, 39, 41, 45, 48]\n"
     ]
    },
    {
     "data": {
      "text/plain": [
       "array([1, 0, 1, 0, 0, 1, 1, 1, 0, 1, 0, 1, 1, 1, 0, 0, 0, 0, 1, 0, 0, 1,\n",
       "       1, 0, 0, 0, 0, 1, 0, 1, 1, 0, 1, 0, 1, 0, 1, 0, 1, 1, 0, 1, 0, 0,\n",
       "       0, 1, 0, 0, 1], dtype=int32)"
      ]
     },
     "execution_count": 22,
     "metadata": {},
     "output_type": "execute_result"
    }
   ],
   "source": [
    "K_means(get_feature(\"YO_full\"), 2)"
   ]
  },
  {
   "cell_type": "code",
   "execution_count": 25,
   "metadata": {},
   "outputs": [
    {
     "name": "stdout",
     "output_type": "stream",
     "text": [
      "Cluster 0 : [3, 7, 8, 9, 10, 11, 12, 13, 14, 15, 16, 19, 20, 21, 23, 25, 26, 27, 28, 29, 30, 31, 32, 33, 34, 35, 36, 37, 38, 39, 40, 41, 42, 43, 44, 45, 46, 47, 48, 50]\n",
      "Cluster 1 : [0, 1, 2, 4, 5, 6, 17, 18, 22, 24, 49, 51, 52]\n"
     ]
    },
    {
     "data": {
      "image/png": "[encoded data removed]",
      "text/plain": [
       "<Figure size 432x288 with 1 Axes>"
      ]
     },
     "metadata": {},
     "output_type": "display_data"
    }
   ],
   "source": [
    "TSNE_plot(\"JO_full\")"
   ]
  },
  {
   "cell_type": "code",
   "execution_count": 26,
   "metadata": {},
   "outputs": [
    {
     "name": "stdout",
     "output_type": "stream",
     "text": [
      "Cluster 0 : [0, 2, 5, 6, 7, 9, 11, 12, 13, 18, 21, 22, 27, 29, 30, 32, 34, 36, 38, 39, 41, 45, 48]\n",
      "Cluster 1 : [1, 3, 4, 8, 10, 14, 15, 16, 17, 19, 20, 23, 24, 25, 26, 28, 31, 33, 35, 37, 40, 42, 43, 44, 46, 47]\n"
     ]
    },
    {
     "data": {
      "image/png": "[encoded data removed]",
      "text/plain": [
       "<Figure size 432x288 with 1 Axes>"
      ]
     },
     "metadata": {},
     "output_type": "display_data"
    }
   ],
   "source": [
    "TSNE_plot(\"YO_full\")"
   ]
  },
  {
   "cell_type": "code",
   "execution_count": 27,
   "metadata": {},
   "outputs": [
    {
     "name": "stdout",
     "output_type": "stream",
     "text": [
      "Cluster 0 : [2, 4, 6, 8, 9, 11, 12, 14, 17, 19, 20, 21, 22, 25, 26, 27, 36, 37, 39, 40, 41, 47, 49, 50, 52, 59]\n",
      "Cluster 1 : [0, 1, 3, 5, 7, 10, 13, 15, 16, 18, 23, 24, 28, 29, 30, 31, 32, 33, 34, 35, 38, 42, 43, 44, 45, 46, 48, 51, 53, 54, 55, 56, 57, 58]\n"
     ]
    },
    {
     "data": {
      "image/png": "[encoded data removed]",
      "text/plain": [
       "<Figure size 432x288 with 1 Axes>"
      ]
     },
     "metadata": {},
     "output_type": "display_data"
    }
   ],
   "source": [
    "TSNE_plot(\"CA_full\")"
   ]
  },
  {
   "cell_type": "code",
   "execution_count": 28,
   "metadata": {},
   "outputs": [
    {
     "name": "stdout",
     "output_type": "stream",
     "text": [
      "Cluster 0 : [1, 4, 5, 7, 8, 9, 10, 11, 12, 13, 15, 16, 17, 19, 21, 22, 23, 27, 29, 34, 35, 36, 37, 38, 39, 40, 41, 42, 44, 46, 47, 48, 50, 51, 52, 53, 54]\n",
      "Cluster 1 : [0, 2, 3, 6, 14, 18, 20, 24, 25, 26, 28, 30, 31, 32, 33, 43, 45, 49, 55]\n"
     ]
    },
    {
     "data": {
      "image/png": "[encoded data removed]",
      "text/plain": [
       "<Figure size 432x288 with 1 Axes>"
      ]
     },
     "metadata": {},
     "output_type": "display_data"
    }
   ],
   "source": [
    "TSNE_plot(\"EMO_full\")"
   ]
  },
  {
   "cell_type": "code",
   "execution_count": null,
   "metadata": {},
   "outputs": [],
   "source": []
  }
 ],
 "metadata": {
  "kernelspec": {
   "display_name": "Python 3",
   "language": "python",
   "name": "python3"
  },
  "language_info": {
   "codemirror_mode": {
    "name": "ipython",
    "version": 3
   },
   "file_extension": ".py",
   "mimetype": "text/x-python",
   "name": "python",
   "nbconvert_exporter": "python",
   "pygments_lexer": "ipython3",
   "version": "3.6.5"
  }
 },
 "nbformat": 4,
 "nbformat_minor": 2
}
