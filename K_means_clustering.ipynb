{
 "cells": [
  {
   "cell_type": "code",
   "execution_count": 1,
   "metadata": {},
   "outputs": [],
   "source": [
    "import numpy as np\n",
    "import matplotlib.pyplot as plt\n",
    "from sklearn.cluster import KMeans"
   ]
  },
  {
   "cell_type": "markdown",
   "metadata": {},
   "source": [
    "Question: \n",
    "\n",
    "1. What two or three attributes to group together to make sense?\n",
    "     Duration + \n",
    "\n",
    "2. "
   ]
  },
  {
   "cell_type": "code",
   "execution_count": 15,
   "metadata": {},
   "outputs": [
    {
     "name": "stdout",
     "output_type": "stream",
     "text": [
      "[0 0 1 1 1 2]\n",
      "[[ 1.5]\n",
      " [ 9. ]\n",
      " [19. ]]\n"
     ]
    }
   ],
   "source": [
    "test1 = [[1], [2], [8], [9], [10], [19]]\n",
    "kmeans1 = KMeans(n_clusters = 3).fit(test1)\n",
    "r = kmeans1.labels_\n",
    "c = kmeans1.cluster_centers_\n",
    "print(r)\n",
    "print(c)\n"
   ]
  },
  {
   "cell_type": "code",
   "execution_count": 11,
   "metadata": {},
   "outputs": [
    {
     "name": "stdout",
     "output_type": "stream",
     "text": [
      "[2 2 0 0 3 1]\n"
     ]
    },
    {
     "data": {
      "text/plain": [
       "1"
      ]
     },
     "execution_count": 11,
     "metadata": {},
     "output_type": "execute_result"
    }
   ],
   "source": [
    "test2 = [[3, 8, 9], [4, 6, 5], [10, 9, 18], [1, 2, 2], [2, 3, 4] ,[19, 8 ,5]]\n",
    "kmeans2 = KMeans(n_clusters = 4).fit(test1)\n",
    "print(kmeans2.labels_)\n",
    "kmeans2.n_iter_"
   ]
  },
  {
   "cell_type": "code",
   "execution_count": 4,
   "metadata": {},
   "outputs": [],
   "source": [
    "sample_data = [[3, 8, 9], [4, 6, 5], [10, 9, 18], [1, 2, 2], [2, 3, 4] ,[19, 8 ,5],[4, 6, 10], [8, 9, 15],[7, 10, 30]\n",
    "               ,[2, 9 ,16], [7, 2, 8], [8, 22, 7]]"
   ]
  },
  {
   "cell_type": "code",
   "execution_count": 7,
   "metadata": {},
   "outputs": [],
   "source": [
    "# Methods for applying K means cluster onto the final data_array. \n",
    "# Input: data_array. K (cluster numer). \n",
    "# Output: Print out each cluster sand their centers.\n",
    "def K_means(data_array, K):\n",
    "    kmeans = KMeans(n_clusters = K).fit(data_array)\n",
    "    labels = kmeans.labels_\n",
    "    centers = kmeans.cluster_centers_\n",
    "    clusters = [[] for i in range(K)] # Empty array to store the clusters.\n",
    "    count = 0  # Count the index\n",
    "    for ele in labels:\n",
    "        clusters[ele].append(count)\n",
    "        count += 1\n",
    "    for i in range(K):\n",
    "        print(\"Cluster\", i ,\":\", clusters[i], \" Centered at\", centers[i])\n"
   ]
  },
  {
   "cell_type": "code",
   "execution_count": 28,
   "metadata": {},
   "outputs": [
    {
     "name": "stdout",
     "output_type": "stream",
     "text": [
      "Cluster 0 : [0, 1]  Centered at [1.5]\n",
      "Cluster 1 : [2, 3, 4]  Centered at [9.]\n",
      "Cluster 2 : [5]  Centered at [19.]\n"
     ]
    }
   ],
   "source": [
    "K_means(test1, 3)"
   ]
  },
  {
   "cell_type": "code",
   "execution_count": 29,
   "metadata": {},
   "outputs": [
    {
     "name": "stdout",
     "output_type": "stream",
     "text": [
      "Cluster 0 : [0, 1]  Centered at [3.5 7.  7. ]\n",
      "Cluster 1 : [5]  Centered at [19.  8.  5.]\n",
      "Cluster 2 : [2]  Centered at [10.  9. 18.]\n",
      "Cluster 3 : [3, 4]  Centered at [1.5 2.5 3. ]\n"
     ]
    }
   ],
   "source": [
    "K_means(test2, 4)"
   ]
  },
  {
   "cell_type": "code",
   "execution_count": 10,
   "metadata": {},
   "outputs": [
    {
     "name": "stdout",
     "output_type": "stream",
     "text": [
      "Cluster 0 : [2, 7, 8, 9]  Centered at [ 6.75  9.25 19.75]\n",
      "Cluster 1 : [0, 1, 3, 4, 6, 10]  Centered at [3.5        4.5        6.33333333]\n",
      "Cluster 2 : [11]  Centered at [ 8. 22.  7.]\n",
      "Cluster 3 : [5]  Centered at [19.  8.  5.]\n"
     ]
    }
   ],
   "source": [
    "K_means(sample_data, 4)"
   ]
  },
  {
   "cell_type": "code",
   "execution_count": 17,
   "metadata": {},
   "outputs": [],
   "source": [
    "sample_2D = [[9, 2], [1, 8],  [1.4, 8.2], [4, 14], [2.5, 10.3], [11, 0.5], [2, 9], [10.2, 3]]"
   ]
  },
  {
   "cell_type": "code",
   "execution_count": 21,
   "metadata": {},
   "outputs": [
    {
     "name": "stdout",
     "output_type": "stream",
     "text": [
      "Cluster 0 : [1, 2, 4, 6]  Centered at [1.725 8.875]\n",
      "Cluster 1 : [0, 5, 7]  Centered at [10.06666667  1.83333333]\n",
      "Cluster 2 : [3]  Centered at [ 4. 14.]\n"
     ]
    }
   ],
   "source": [
    "K_means(sample_2D, 3)"
   ]
  },
  {
   "cell_type": "code",
   "execution_count": 20,
   "metadata": {},
   "outputs": [
    {
     "ename": "SyntaxError",
     "evalue": "unexpected EOF while parsing (<ipython-input-20-732353d509dd>, line 3)",
     "output_type": "error",
     "traceback": [
      "\u001b[0;36m  File \u001b[0;32m\"<ipython-input-20-732353d509dd>\"\u001b[0;36m, line \u001b[0;32m3\u001b[0m\n\u001b[0;31m    \u001b[0m\n\u001b[0m    ^\u001b[0m\n\u001b[0;31mSyntaxError\u001b[0m\u001b[0;31m:\u001b[0m unexpected EOF while parsing\n"
     ]
    }
   ],
   "source": [
    "# Method for computing the data_array from the list of dictionary.\n",
    "def comupte_data_array(features_dictionary):\n",
    "    "
   ]
  },
  {
   "cell_type": "code",
   "execution_count": null,
   "metadata": {},
   "outputs": [],
   "source": []
  }
 ],
 "metadata": {
  "kernelspec": {
   "display_name": "Python 3",
   "language": "python",
   "name": "python3"
  },
  "language_info": {
   "codemirror_mode": {
    "name": "ipython",
    "version": 3
   },
   "file_extension": ".py",
   "mimetype": "text/x-python",
   "name": "python",
   "nbconvert_exporter": "python",
   "pygments_lexer": "ipython3",
   "version": "3.7.3"
  }
 },
 "nbformat": 4,
 "nbformat_minor": 2
}
