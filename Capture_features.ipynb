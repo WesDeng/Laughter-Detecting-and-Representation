{
 "cells": [
  {
   "cell_type": "code",
   "execution_count": 11,
   "metadata": {},
   "outputs": [],
   "source": [
    "import numpy as np\n",
    "import librosa\n",
    "import matplotlib.pyplot as plt\n",
    "from sklearn.cluster import KMeans\n",
    "from sklearn import preprocessing"
   ]
  },
  {
   "cell_type": "code",
   "execution_count": 2,
   "metadata": {},
   "outputs": [],
   "source": [
    "# Methods to load all the file as a floating point time series.\n",
    "def load_files(folders):\n",
    "    files = librosa.util.find_files(folders)\n",
    "    laugh_audios = []\n",
    "    for audio_name in files:\n",
    "        y, sr = librosa.core.load(audio_name)\n",
    "        laugh_audios.append(y)\n",
    "    return laugh_audios"
   ]
  },
  {
   "cell_type": "code",
   "execution_count": 3,
   "metadata": {},
   "outputs": [],
   "source": [
    "# Methods to compute the duration of all the file\n",
    "def compute_duration(laugh_audios):\n",
    "    audios_duration = []\n",
    "    for i in laugh_audios:\n",
    "        audios_duration.append(librosa.get_duration(i))\n",
    "    return audios_duration"
   ]
  },
  {
   "cell_type": "code",
   "execution_count": 4,
   "metadata": {},
   "outputs": [],
   "source": [
    "# Methods to compute average pitch (using estimate_tuning)\n",
    "def compute_pitch(laugh_audios):\n",
    "    audios_pitch = []\n",
    "    for i in laugh_audios:\n",
    "        audios_pitch.append((np.mean(librosa.feature.spectral_centroid(i))))\n",
    "    return audios_pitch"
   ]
  },
  {
   "cell_type": "code",
   "execution_count": 15,
   "metadata": {},
   "outputs": [],
   "source": [
    "def compute_energy(laugh_audios):\n",
    "    audios_energy = []\n",
    "    for i in laugh_audios:\n",
    "        audios_energy.append([np.sqrt(np.dot(i, i))/len(i)][0])\n",
    "    return audios_energy"
   ]
  },
  {
   "cell_type": "code",
   "execution_count": 6,
   "metadata": {},
   "outputs": [],
   "source": [
    "# Method to scale the data to 0 - 10 so that we have a uniform standard for each attributes.\n",
    "def nomalize_data(array):\n",
    "    min_v, max_v = np.amin(array), np.amax(array)\n",
    "    nom_array = []\n",
    "    for i in array:\n",
    "        if i == min_v:\n",
    "            nom_array.append(0)\n",
    "        else:\n",
    "            nom_array.append(10*(i - min_v)/(max_v - min_v))\n",
    "    return nom_array"
   ]
  },
  {
   "cell_type": "code",
   "execution_count": 7,
   "metadata": {},
   "outputs": [],
   "source": [
    "def compute_tempo(laugh_audios):\n",
    "    audios_tempo = []\n",
    "    for i in laugh_audios:\n",
    "        audios_tempo.append(librosa.beat.tempo(i))\n",
    "    return audios_tempo"
   ]
  },
  {
   "cell_type": "code",
   "execution_count": 8,
   "metadata": {},
   "outputs": [],
   "source": [
    "# Methods to compute features. Now: duration, avg pitches.\n",
    "def compute_duration_and_pitch(folder_name):\n",
    "    laughters = load_files(folder_name)\n",
    "    durations = compute_duration(laughters) # Do not nomalized\n",
    "    pitches = compute_pitch(laughters) # Do not nomalized\n",
    "    data_points = []\n",
    "    for i in range(len(laughters)):\n",
    "        data_points.append([durations[i], pitches[i].round(decimals=3)])\n",
    "    return data_points"
   ]
  },
  {
   "cell_type": "code",
   "execution_count": 9,
   "metadata": {},
   "outputs": [],
   "source": [
    "# Methods to compute features. Now: tempo, avg pitches.\n",
    "def compute_energy_and_duration(folder_name):\n",
    "    laughters = load_files(folder_name)\n",
    "    durations = compute_duration(laughters)\n",
    "    energy = preprocessing.minmax_scale(compute_energy(laughters),feature_range = (1,8),axis =1)\n",
    "    data_points = []\n",
    "    for i in range(len(laughters)):\n",
    "        data_points.append([durations[i], energy[i]])\n",
    "    return data_points"
   ]
  },
  {
   "cell_type": "code",
   "execution_count": 16,
   "metadata": {},
   "outputs": [
    {
     "name": "stdout",
     "output_type": "stream",
     "text": [
      "[[1.2890702947845805, 1.0], [1.2900226757369615, 1.0], [0.76, 1.0], [0.5700226757369614, 1.0], [1.0, 1.0], [0.47002267573696144, 1.0], [0.9, 1.0], [1.3700226757369613, 1.0], [1.06, 1.0], [0.8700226757369615, 1.0], [0.9, 1.0], [1.0, 1.0], [3.1700226757369614, 1.0], [0.8700226757369615, 1.0], [1.5699773242630386, 1.0], [1.0500226757369615, 1.0], [1.84, 1.0], [2.0700226757369613, 1.0], [1.3300226757369615, 1.0]]\n"
     ]
    }
   ],
   "source": [
    "JO_d_e = compute_energy_and_duration(\"JO_test\")\n",
    "print(JO_d_e)"
   ]
  },
  {
   "cell_type": "code",
   "execution_count": 9,
   "metadata": {},
   "outputs": [],
   "source": [
    "# Methods for applying K means cluster onto the final data_array. \n",
    "# Input: data_array. K (cluster numer). \n",
    "# Output: Print out each cluster sand their centers. Return labels.\n",
    "def K_means(data_array, K):\n",
    "    kmeans = KMeans(n_clusters = K).fit(data_array)\n",
    "    labels = kmeans.labels_\n",
    "    centers = kmeans.cluster_centers_\n",
    "    clusters = [[] for i in range(K)] # Empty array to store the clusters.\n",
    "    count = 0  # Count the index\n",
    "    for ele in labels:\n",
    "        clusters[ele].append(count)\n",
    "        count += 1\n",
    "    for i in range(K):\n",
    "        print(\"Cluster\", i ,\":\", clusters[i], \" Centered at\", centers[i])\n",
    "    return labels"
   ]
  },
  {
   "cell_type": "code",
   "execution_count": 10,
   "metadata": {},
   "outputs": [],
   "source": [
    "# Methods to draw the outcomes. Can change K values.\n",
    "def make_graph(folder):\n",
    "    data_points = np.array(compute_duration_and_pitch(folder)) # Change function here to get different features.\n",
    "    labels = K_means(data_points, 3)\n",
    "    print(data_points)\n",
    "    #Plot the graph\n",
    "    plt.scatter(data_points[labels == 0,0],data_points[labels == 0,1], c = 'b')\n",
    "    plt.scatter(data_points[labels == 1,0],data_points[labels == 1,1], c = 'r')\n",
    "    plt.scatter(data_points[labels == 2,0],data_points[labels == 2,1], c = 'g')\n",
    "    plt.xlabel('duration of the laughter (scaled 0-10)')\n",
    "    plt.ylabel('estimated tuning of the laughter (scaled 0-10)') # Change here depending on the features.\n",
    "    plt.legend(('Cluster 0','Cluster 1','Cluster 2'))\n",
    "    plt.show()"
   ]
  },
  {
   "cell_type": "code",
   "execution_count": 33,
   "metadata": {},
   "outputs": [
    {
     "name": "stdout",
     "output_type": "stream",
     "text": [
      "[[1.2890702947845805, 2773.967], [1.2900226757369615, 2155.264], [0.76, 1826.43], [0.5700226757369614, 1861.363], [1.0, 2172.306], [0.47002267573696144, 1918.463], [0.9, 2168.193], [1.3700226757369613, 2497.103], [1.06, 1859.309], [0.8700226757369615, 1686.663], [0.9, 1945.695], [1.0, 2633.5], [3.1700226757369614, 3007.214], [0.8700226757369615, 2303.767], [1.5699773242630386, 2336.101], [1.0500226757369615, 2125.836], [1.84, 2549.414], [2.0700226757369613, 2776.01], [1.3300226757369615, 2209.158]]\n"
     ]
    }
   ],
   "source": [
    "M_F = compute_duration_and_pitch(\"Male_Female\")\n",
    "print(M_F)"
   ]
  },
  {
   "cell_type": "code",
   "execution_count": 34,
   "metadata": {},
   "outputs": [
    {
     "name": "stdout",
     "output_type": "stream",
     "text": [
      "[[0.9500226757369614, 1999.144], [0.76, 1826.43], [0.8500226757369614, 1997.063], [1.5100226757369615, 1648.398], [1.0500226757369615, 2125.836], [1.3900226757369614, 2100.247], [8.82, 2910.561]]\n"
     ]
    }
   ],
   "source": [
    "print(compute_duration_and_pitch(\"test_spec\"))"
   ]
  },
  {
   "cell_type": "code",
   "execution_count": 12,
   "metadata": {},
   "outputs": [
    {
     "name": "stdout",
     "output_type": "stream",
     "text": [
      "[[1.5300226757369615, 1268.233], [4.26, 1470.421], [5.227437641723356, 1685.525], [5.26, 1727.153], [2.1700226757369614, 1443.825], [0.84, 1765.336], [1.5500226757369615, 1461.732], [2.7099773242630385, 1711.693], [2.7700226757369615, 1919.905], [4.72, 1730.133], [2.8500226757369616, 2548.124]]\n"
     ]
    }
   ],
   "source": [
    "more = compute_duration_and_pitch(\"more\")\n",
    "print(more)"
   ]
  },
  {
   "cell_type": "code",
   "execution_count": null,
   "metadata": {},
   "outputs": [],
   "source": []
  }
 ],
 "metadata": {
  "kernelspec": {
   "display_name": "Python 3",
   "language": "python",
   "name": "python3"
  },
  "language_info": {
   "codemirror_mode": {
    "name": "ipython",
    "version": 3
   },
   "file_extension": ".py",
   "mimetype": "text/x-python",
   "name": "python",
   "nbconvert_exporter": "python",
   "pygments_lexer": "ipython3",
   "version": "3.7.3"
  }
 },
 "nbformat": 4,
 "nbformat_minor": 2
}
